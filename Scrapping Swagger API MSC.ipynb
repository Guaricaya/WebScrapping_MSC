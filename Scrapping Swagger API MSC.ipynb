{
 "cells": [
  {
   "cell_type": "code",
   "execution_count": 1,
   "id": "14cd6853",
   "metadata": {},
   "outputs": [],
   "source": [
    "import requests as r\n",
    "import os\n",
    "import pandas as pd\n",
    "from pandas import json_normalize\n",
    "import json"
   ]
  },
  {
   "cell_type": "code",
   "execution_count": 2,
   "id": "976845f7",
   "metadata": {},
   "outputs": [],
   "source": [
    "#Schema das Tabelas\n",
    "\n",
    "data_types_dict_orcamentaria = {'tipo_matriz': 'str', 'cod_ibge': 'str', 'classe_conta': 'int', 'conta_contabil': 'str', 'poder_orgao': 'int', 'ano_fonte_recursos': 'int', 'fonte_recursos': 'str', 'funcao': 'int', 'subfuncao': 'int', 'exercicio': 'int', 'mes_referencia': 'int', 'educacao_saude': 'int', 'data_referencia': 'str', 'entrada_msc': 'int', 'natureza_despesa': 'str', 'ano_inscricao': 'int', 'natureza_receita': 'str', 'valor': 'float', 'natureza_conta': 'str', 'tipo_valor': 'str', 'complemento_fonte': 'int'}\n",
    "data_types_dict_patrimonial = {'tipo_matriz': 'str', 'cod_ibge': 'str', 'classe_conta': 'int', 'conta_contabil': 'str', 'poder_orgao': 'int', 'financeiro_permanente': 'int', 'ano_fonte_recursos': 'int', 'fonte_recursos': 'int', 'exercicio': 'int', 'mes_referencia': 'int', 'divida_consolidada': 'int', 'data_referencia': 'str', 'entrada_msc': 'int', 'valor': 'float', 'natureza_conta': 'str', 'tipo_valor': 'str', 'complemento_fonte': 'int'}\n",
    "data_types_dict_controle = {'tipo_matriz': 'str', 'cod_ibge': 'str', 'classe_conta': 'int', 'conta_contabil': 'str', 'poder_orgao': 'int', 'ano_fonte_recursos': 'int', 'fonte_recursos': 'str', 'funcao': 'int', 'subfuncao': 'int', 'exercicio': 'int', 'mes_referencia': 'int', 'educacao_saude': 'int', 'data_referencia': 'str', 'entrada_msc': 'int', 'natureza_despesa': 'str', 'ano_inscricao': 'int', 'valor': 'float', 'natureza_conta': 'str', 'tipo_valor': 'str', 'complemento_fonte': 'int'}"
   ]
  },
  {
   "cell_type": "code",
   "execution_count": 3,
   "id": "36339107",
   "metadata": {},
   "outputs": [],
   "source": [
    "#função para juntar todos os arquivos de classe\n",
    "def merge(arquivo:str, arquivos:list, path_de_saida:str,data_types_dict:dict)->None:\n",
    "    df = pd.read_csv(arquivo, sep=';')\n",
    "    os.remove(arquivo)\n",
    "    for parte in arquivos:\n",
    "        df2 = pd.read_csv(parte, sep=';')\n",
    "        if(not(df2.empty)):\n",
    "            df = pd.concat([df, df2], ignore_index=True)\n",
    "            os.remove(parte)\n",
    "    df = df.fillna(-1)\n",
    "    df = df.astype(data_types_dict)\n",
    "    df['valor'] = df['valor'].apply(lambda x: round(x,2))\n",
    "    df.to_csv(path_de_saida,sep =';', decimal=',', index=False)\n",
    "    \n",
    "    \n",
    "def listar_path(comeco:str,arquivos_csv:str):\n",
    "    lista_caminho = []\n",
    "    for subdir, _, files in os.walk(arquivos_csv,topdown=True):\n",
    "               for file in files:\n",
    "                    if file.startswith(comeco) and file.endswith('.csv'):\n",
    "                        caminho_dos_arquivos =  subdir + \"\\\\\" + file\n",
    "                        lista_caminho.append(caminho_dos_arquivos)\n",
    "    return lista_caminho\n"
   ]
  },
  {
   "cell_type": "code",
   "execution_count": 6,
   "id": "62670fda",
   "metadata": {},
   "outputs": [],
   "source": [
    "#Paritmonial\n",
    "periodo_lista = ['beginning_balance','period_change','ending_balance']\n",
    "for i in range(1,5):\n",
    "    for periodo in periodo_lista:\n",
    "        url = f'https://apidatalake.tesouro.gov.br/ords/siconfi/tt/msc_patrimonial?id_ente=3301009&an_referencia=2023&me_referencia=01&co_tipo_matriz=MSCC&classe_conta={i}&id_tv={periodo}'\n",
    "        resp = r.get(url)\n",
    "        data = json.loads(resp.content)\n",
    "        if(not(data[\"items\"] == [])):\n",
    "            arquivo = f'F:\\\\CIC\\\\17 - Estagiários\\\\Rafael_Pereira\\\\MSC\\\\msc_patrimonial_classe{i}_{periodo}.csv'\n",
    "            df = json_normalize(data[\"items\"])\n",
    "            df.to_csv(arquivo,sep =';', index=False)"
   ]
  },
  {
   "cell_type": "code",
   "execution_count": 7,
   "id": "c5e5a96f",
   "metadata": {
    "scrolled": true
   },
   "outputs": [],
   "source": [
    "arquivos = 'F:\\\\CIC\\\\17 - Estagiários\\\\Rafael_Pereira\\\\MSC'\n",
    "lista = listar_path('msc_patrimonial',arquivos)\n",
    "merge(lista[0],lista[1:],'F:\\\\CIC\\\\17 - Estagiários\\\\Rafael_Pereira\\\\MSC\\\\msc_patrimonial.csv',data_types_dict_patrimonial)"
   ]
  },
  {
   "cell_type": "code",
   "execution_count": 10,
   "id": "769e1762",
   "metadata": {},
   "outputs": [],
   "source": [
    "#Orçamentario\n",
    "for i in range(5,7):\n",
    "    for periodo in periodo_lista:\n",
    "        url = f'https://apidatalake.tesouro.gov.br/ords/siconfi/tt/msc_orcamentaria?id_ente=3301009&an_referencia=2023&me_referencia=01&co_tipo_matriz=MSCC&classe_conta={i}&id_tv={periodo}'\n",
    "        resp = r.get(url)\n",
    "        data = json.loads(resp.content)\n",
    "        if(not(data[\"items\"] == [])):\n",
    "            arquivo = f'F:\\\\CIC\\\\17 - Estagiários\\\\Rafael_Pereira\\\\MSC\\\\msc_orcamentaria_classe{i}_{periodo}.csv'\n",
    "            df = json_normalize(data[\"items\"])\n",
    "            df.to_csv(arquivo,sep =';', index=False)"
   ]
  },
  {
   "cell_type": "code",
   "execution_count": 11,
   "id": "8716c74d",
   "metadata": {},
   "outputs": [],
   "source": [
    "lista = listar_path('msc_orcamentaria',arquivos)\n",
    "merge(lista[0],lista[1:],'F:\\\\CIC\\\\17 - Estagiários\\\\Rafael_Pereira\\\\MSC\\\\msc_orcamentaria.csv',data_types_dict_orcamentaria)"
   ]
  },
  {
   "cell_type": "code",
   "execution_count": 12,
   "id": "d51be098",
   "metadata": {},
   "outputs": [],
   "source": [
    "#controle\n",
    "for i in range(7,9):\n",
    "    for periodo in periodo_lista:\n",
    "        url = f'https://apidatalake.tesouro.gov.br/ords/siconfi/tt/msc_controle?id_ente=3301009&an_referencia=2023&me_referencia=01&co_tipo_matriz=MSCC&classe_conta={i}&id_tv={periodo}'\n",
    "        resp = r.get(url)\n",
    "        data = json.loads(resp.content)\n",
    "        if(not(data[\"items\"] == [])):\n",
    "            arquivo = f'F:\\\\CIC\\\\17 - Estagiários\\\\Rafael_Pereira\\\\MSC\\\\msc_controle_classe{i}_{periodo}.csv'\n",
    "            df = json_normalize(data[\"items\"])\n",
    "            df.to_csv(arquivo,sep =';', index=False)"
   ]
  },
  {
   "cell_type": "code",
   "execution_count": 13,
   "id": "77555923",
   "metadata": {},
   "outputs": [],
   "source": [
    "lista = listar_path('msc_controle_',arquivos)\n",
    "merge(lista[0],lista[1:],'F:\\\\CIC\\\\17 - Estagiários\\\\Rafael_Pereira\\\\MSC\\\\msc_controle.csv',data_types_dict_controle)"
   ]
  }
 ],
 "metadata": {
  "kernelspec": {
   "display_name": "Python 3",
   "language": "python",
   "name": "python3"
  },
  "language_info": {
   "codemirror_mode": {
    "name": "ipython",
    "version": 3
   },
   "file_extension": ".py",
   "mimetype": "text/x-python",
   "name": "python",
   "nbconvert_exporter": "python",
   "pygments_lexer": "ipython3",
   "version": "3.8.8"
  }
 },
 "nbformat": 4,
 "nbformat_minor": 5
}
