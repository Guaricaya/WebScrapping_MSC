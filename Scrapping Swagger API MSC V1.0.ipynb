{
 "cells": [
  {
   "cell_type": "code",
   "execution_count": 1,
   "id": "14cd6853",
   "metadata": {},
   "outputs": [],
   "source": [
    "import requests as r\n",
    "import os\n",
    "import pandas as pd\n",
    "from pandas import json_normalize\n",
    "import json\n",
    "from itertools import product"
   ]
  },
  {
   "cell_type": "code",
   "execution_count": 2,
   "id": "976845f7",
   "metadata": {},
   "outputs": [],
   "source": [
    "#Schema das Tabelas\n",
    "\n",
    "data_types_dict_orcamentaria = {'tipo_matriz': 'str', 'cod_ibge': 'str', 'classe_conta': 'int', 'conta_contabil': 'str', 'poder_orgao': 'int', 'ano_fonte_recursos': 'int', 'fonte_recursos': 'str', 'funcao': 'int', 'subfuncao': 'int', 'exercicio': 'int', 'mes_referencia': 'int', 'educacao_saude': 'int', 'data_referencia': 'str', 'entrada_msc': 'int', 'natureza_despesa': 'str', 'ano_inscricao': 'int', 'natureza_receita': 'str', 'valor': 'float', 'natureza_conta': 'str', 'tipo_valor': 'str', 'complemento_fonte': 'int'}\n",
    "data_types_dict_patrimonial = {'tipo_matriz': 'str', 'cod_ibge': 'str', 'classe_conta': 'int', 'conta_contabil': 'str', 'poder_orgao': 'int', 'financeiro_permanente': 'int', 'ano_fonte_recursos': 'int', 'fonte_recursos': 'int', 'exercicio': 'int', 'mes_referencia': 'int', 'divida_consolidada': 'int', 'data_referencia': 'str', 'entrada_msc': 'int', 'valor': 'float', 'natureza_conta': 'str', 'tipo_valor': 'str', 'complemento_fonte': 'int'}\n",
    "data_types_dict_controle = {'tipo_matriz': 'str', 'cod_ibge': 'str', 'classe_conta': 'int', 'conta_contabil': 'str', 'poder_orgao': 'int', 'ano_fonte_recursos': 'int', 'fonte_recursos': 'str', 'funcao': 'int', 'subfuncao': 'int', 'exercicio': 'int', 'mes_referencia': 'int', 'educacao_saude': 'int', 'data_referencia': 'str', 'entrada_msc': 'int', 'natureza_despesa': 'str', 'ano_inscricao': 'int', 'valor': 'float', 'natureza_conta': 'str', 'tipo_valor': 'str', 'complemento_fonte': 'int'}"
   ]
  },
  {
   "cell_type": "code",
   "execution_count": 18,
   "id": "36339107",
   "metadata": {},
   "outputs": [],
   "source": [
    "#função pra baixar os dados da API\n",
    "def baixar_dados(path_raiz:str,tipo:str,mes:str,ano:str,id_ente:str)->None:\n",
    "    periodo_lista = ['beginning_balance','period_change','ending_balance']\n",
    "    #selecionado os parametros de clase da conta.\n",
    "    if tipo == 'msc_patrimonial':\n",
    "        inicio = 1\n",
    "        fim = 5\n",
    "    elif tipo == 'msc_orcamentaria':\n",
    "        inicio = 5\n",
    "        fim = 7\n",
    "    else:\n",
    "        inicio = 7\n",
    "        fim = 9\n",
    "    for i in range(inicio,fim):\n",
    "        for periodo in periodo_lista:\n",
    "            url = f'https://apidatalake.tesouro.gov.br/ords/siconfi/tt/{tipo}?id_ente={id_ente}&an_referencia={ano}&me_referencia={mes}&co_tipo_matriz=MSCC&classe_conta={i}&id_tv={periodo}'\n",
    "            resp = r.get(url)\n",
    "            data = json.loads(resp.content)\n",
    "            if(not(data[\"items\"] == [])):\n",
    "                arquivo = f'{path_raiz}\\\\{tipo}_classe{i}_{periodo}.csv'\n",
    "                df = json_normalize(data[\"items\"])\n",
    "                #Conversão do arquivo para csv\n",
    "                df.to_csv(arquivo,sep =';', index=False)\n",
    "\n",
    "#função para juntar todos os arquivos de classe\n",
    "def merge(arquivo:str, arquivos:list, path_de_saida:str,data_types_dict:dict)->None:\n",
    "    df = pd.read_csv(arquivo, sep=';')\n",
    "    os.remove(arquivo)\n",
    "    for parte in arquivos:\n",
    "        df2 = pd.read_csv(parte, sep=';')\n",
    "        if(not(df2.empty)):\n",
    "            df = pd.concat([df, df2], ignore_index=True)\n",
    "            os.remove(parte)\n",
    "    df = df.fillna(-1)\n",
    "    df = df.astype(data_types_dict)\n",
    "    df['valor'] = df['valor'].apply(lambda x: round(x,2))\n",
    "    df.to_csv(path_de_saida,sep =';', decimal=',', index=False)\n",
    "    \n",
    "def merge_dos_arquivos(arquivo:str, arquivos:list, path_de_saida:str)->None:\n",
    "    df = pd.read_csv(arquivo, sep=';')\n",
    "    os.remove(arquivo)\n",
    "    for parte in arquivos:\n",
    "        df2 = pd.read_csv(parte, sep=';')\n",
    "        if(not(df2.empty)):\n",
    "            df = pd.concat([df, df2], ignore_index=True)\n",
    "            os.remove(parte)\n",
    "    df.to_csv(path_de_saida,sep =';', decimal=',', index=False)\n",
    "    \n",
    "#função para listar os Arquivos baixados    \n",
    "def listar_path(comeco:str,arquivos_csv:str)->list:\n",
    "    lista_caminho = []\n",
    "    for subdir, _, files in os.walk(arquivos_csv,topdown=True):\n",
    "               for file in files:\n",
    "                    if file.startswith(comeco) and file.endswith('.csv'):\n",
    "                        caminho_dos_arquivos =  subdir + \"\\\\\" + file\n",
    "                        lista_caminho.append(caminho_dos_arquivos)\n",
    "    return lista_caminho\n",
    "\n"
   ]
  },
  {
   "cell_type": "code",
   "execution_count": 27,
   "id": "c5e5a96f",
   "metadata": {
    "scrolled": true
   },
   "outputs": [],
   "source": [
    "# Execução do algoritmo e passagem de parametros.\n",
    "raiz = 'F:\\\\CIC\\\\17 - Estagiários\\\\Rafael_Pereira\\\\MSC' # Alterar a raiz do caminho\n",
    "lista_categoria = ('msc_patrimonial','msc_orcamentaria','msc_controle')\n",
    "mes_referencia = ('01','02') # adicionar mais meses\n",
    "ano_referencia = ('2022','2021') # adicionar outros anos\n",
    "id_entidade = ('3301009',) # adicionar mais entidades\n",
    "todas_combinacoes = tuple(product(lista_categoria, mes_referencia, ano_referencia,id_entidade))\n",
    "for dados in todas_combinacoes:\n",
    "    baixar_dados(raiz,dados[0],dados[1],dados[2],dados[3])\n",
    "    lista = listar_path(f'{dados[0]}_',raiz)\n",
    "    # o nome do arquivo de saida é a combinação do id da entidade pesquisada, a categoria pesquisada e a data da pesquisa\n",
    "    if dados[0] == 'msc_patrimonial':\n",
    "        merge(lista[0],lista[1:],f'{raiz}\\\\1{dados[0]}_{dados[1]}-{dados[2]}.csv',data_types_dict_patrimonial)\n",
    "    elif dados[0] == 'msc_orcamentaria':\n",
    "        merge(lista[0],lista[1:],f'{raiz}\\\\1{dados[0]}_{dados[1]}-{dados[2]}.csv',data_types_dict_orcamentaria)\n",
    "    else:\n",
    "        merge(lista[0],lista[1:],f'{raiz}\\\\1{dados[0]}_{dados[1]}-{dados[2]}.csv',data_types_dict_controle)\n",
    "#juntando os dados em arquivos por classse\n",
    "for dados in lista_categoria:    \n",
    "    lista=listar_path(f'1{dados}_',raiz)\n",
    "    merge_dos_arquivos(lista[0],lista[1:],f'{raiz}\\\\{dados}.csv')\n"
   ]
  }
 ],
 "metadata": {
  "kernelspec": {
   "display_name": "Python 3",
   "language": "python",
   "name": "python3"
  },
  "language_info": {
   "codemirror_mode": {
    "name": "ipython",
    "version": 3
   },
   "file_extension": ".py",
   "mimetype": "text/x-python",
   "name": "python",
   "nbconvert_exporter": "python",
   "pygments_lexer": "ipython3",
   "version": "3.8.8"
  }
 },
 "nbformat": 4,
 "nbformat_minor": 5
}
